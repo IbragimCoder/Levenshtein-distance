{
 "cells": [
  {
   "metadata": {},
   "cell_type": "markdown",
   "source": [
    "# Spell Checker with Levenshtein Distance\n",
    "\n",
    "This code is a **spell checker** that uses the **Levenshtein distance** algorithm to find and suggest corrections for misspelled words. It loads a dictionary of words from a file, checks if a given word is in the dictionary, and suggests similar words if the word is not found.\n",
    "\n",
    "---\n",
    "\n",
    "## Code Overview\n",
    "\n",
    "The code consists of the following main parts:\n",
    "\n",
    "1. **Importing Required Modules:**\n",
    "   - The necessary modules (`typing`) and the `optimized_levenshtein_distance` function are imported.\n",
    "\n",
    "2. **Loading the Dictionary:**\n",
    "   - A function to load a dictionary of words from a file and check if it is empty.\n",
    "\n",
    "3. **Finding Suggestions:**\n",
    "   - A function to find the most similar words from the dictionary based on the Levenshtein distance.\n",
    "\n",
    "4. **Spell Checking:**\n",
    "   - A function to check if a word is in the dictionary and suggest corrections if it is not found.\n",
    "\n",
    "5. **Main Function:**\n",
    "   - The main function that loads the dictionary, takes user input, and performs the spell check."
   ],
   "id": "1d4ce99e4466916b"
  },
  {
   "metadata": {},
   "cell_type": "markdown",
   "source": [
    "## Detailed Explanation\n",
    "\n",
    "### 1. Importing Required Modules\n",
    "\n",
    "```python\n",
    "from levenshtein import optimized_levenshtein_distance\n",
    "from typing import List, Set"
   ],
   "id": "d5e16a08c45faa08"
  },
  {
   "metadata": {},
   "cell_type": "markdown",
   "source": [
    "- **optimized_levenshtein_distance**: This is a function from another file (levenshtein.py). It checks how different two words are. For example, how many letters you need to change to turn \"cat\" into \"dog\".\n",
    "\n",
    "- **typing**: This adds hints like List or Set to make the code easier to read and fix later."
   ],
   "id": "226940109fd774c8"
  },
  {
   "metadata": {
    "ExecuteTime": {
     "end_time": "2025-03-07T18:48:34.970887Z",
     "start_time": "2025-03-07T18:48:34.954216Z"
    }
   },
   "cell_type": "code",
   "source": [
    "from opt_levenshtein import optimized_levenshtein_distance\n",
    "\n",
    "from typing import List, Set"
   ],
   "id": "90a33b99a5ee689c",
   "outputs": [],
   "execution_count": 51
  },
  {
   "metadata": {},
   "cell_type": "markdown",
   "source": [
    "### 2. **Loading the Dictionary:**\n",
    "\n",
    "This function reads a file (like english_words.txt) and creates a set of words to use as a dictionary. It makes all words lowercase and removes extra spaces.\n",
    "\n",
    "\n",
    "Note: I prepared a small dictionary file called english_words.txt with 604 English words. It works for testing, but for better accuracy, you can use a larger dictionary file with more words."
   ],
   "id": "d871634b030da0ac"
  },
  {
   "metadata": {
    "ExecuteTime": {
     "end_time": "2025-03-07T18:48:34.994602Z",
     "start_time": "2025-03-07T18:48:34.985881Z"
    }
   },
   "cell_type": "code",
   "source": [
    "def load_dictionary(file_path: str) -> Set[str]:\n",
    "    \n",
    "    try:\n",
    "        with open(file_path, 'r', encoding='utf-8') as f:\n",
    "            dictionary = {word.strip().lower() for word in f if word.strip()}\n",
    "        \n",
    "        if not dictionary:\n",
    "            raise ValueError(\"Error: The dictionary is empty!\")\n",
    "        \n",
    "        return dictionary\n",
    "    except FileNotFoundError:\n",
    "        raise FileNotFoundError(f\"Error: File '{file_path}' not found.\")\n",
    "    except Exception as e:\n",
    "        raise Exception(f\"Error while loading the dictionary: {e}\")"
   ],
   "id": "c658377a35ac38b1",
   "outputs": [],
   "execution_count": 52
  },
  {
   "metadata": {},
   "cell_type": "markdown",
   "source": [
    "### 3. **Finding Suggestions:**\n",
    "\n",
    "This function finds words from the dictionary that are similar to the input word using the Levenshtein distance.\n",
    "\n",
    "####\n",
    "\n",
    "- **`max_suggestions: int = 5`**: This decides how many word suggestions the function gives you. The default is 5, so it gives 5 suggestions. You can change it to get more or fewer suggestions.\n",
    "- **`max_distance: int = 3`**: This is the biggest difference allowed between words to call them similar. The default is 3, meaning up to 3 changes (like adding, removing, or changing a letter). You can change this number.\n",
    "- **`distances = [(dict_word, optimized_levenshtein_distance(word, dict_word)) for dict_word in dictionary]`**: This makes a list called `distances`. The list has pairs: each word from the dictionary (`dict_word`) and how different it is from the word you entered (`word`). The difference is called the Levenshtein distance.\n",
    "\n",
    "\n",
    "###### Why Sorting Helps `distances = sorted(distances, key=lambda x: (x[1], x[0]))`\n",
    "- Sorting by distance puts the most similar words at the start. For example, if \"cat\" is 1 step away from \"cot\" and 2 steps away from \"dog,\" \"cot\" will be first because it’s closer.\n",
    "- Sorting alphabetically helps when distances are the same. For example, if \"cot\" and \"cut\" both have a distance of 1, \"cot\" comes before \"cut\" because of the alphabet.\n",
    "- This makes it easier to pick the best suggestions when we take the top `max_suggestions` words.\n",
    "\n",
    "###### Example\n",
    "- Before sorting: `[(\"dog\", 2), (\"cot\", 1), (\"cut\", 1)]`\n",
    "- After sorting: `[(\"cot\", 1), (\"cut\", 1), (\"dog\", 2)]`\n",
    "- This shows \"cot\" and \"cut\" are the closest to your word, and \"cot\" is first because it starts with \"c,\" which is before \"d\" in the alphabet.\n",
    "\n",
    "In short, sorting helps the function give you the best and most organized word suggestions.\n",
    "\n"
   ],
   "id": "5773a0d4edf3fc67"
  },
  {
   "metadata": {
    "ExecuteTime": {
     "end_time": "2025-03-07T18:48:35.009177Z",
     "start_time": "2025-03-07T18:48:35.001989Z"
    }
   },
   "cell_type": "code",
   "source": [
    "def get_suggestions_levenshtein(word: str, dictionary: Set[str], max_suggestions: int = 5, max_distance: int = 3) -> List[str]:\n",
    "\n",
    "    distances = [(dict_word, optimized_levenshtein_distance(word, dict_word)) for dict_word in dictionary]\n",
    "    distances = sorted(distances, key=lambda x: (x[1], x[0]))\n",
    "    \n",
    "    return [word for word, dist in distances[:max_suggestions] if dist <= max_distance]"
   ],
   "id": "908390c6e056568d",
   "outputs": [],
   "execution_count": 53
  },
  {
   "metadata": {},
   "cell_type": "markdown",
   "source": [
    "### 4. **Spell Checking:**\n",
    "\n",
    "The `spell_check_levenshtein` function checks whether a given word is spelled correctly by comparing it to a provided dictionary. If the word is not found in the dictionary, the function suggests possible corrections based on the Levenshtein distance algorithm.\n",
    "\n",
    "- `word` (`str`): The word to check. It will be processed by converting it to lowercase and removing any leading/trailing spaces.\n",
    "- `dictionary` (`Set[str]`): A set containing the correct words to check against. It must be a collection of strings.\n",
    "- `max_distance` (`int`, optional): The maximum allowed Levenshtein distance for the suggested corrections. Default is 3.\n",
    "\n",
    "##### Returns\n",
    " - If the word is found in the dictionary: \"✅ The word 'word' is spelled correctly.\"\n",
    "  - If the word is not found, and suggestions are available: \"❌ The word 'word' was not found. Possible corrections: [suggestions].\"\n",
    "  - If no suggestions are found: \"❌ The word 'word' was not found. No similar words found.\""
   ],
   "id": "394f75f4aca2b098"
  },
  {
   "metadata": {
    "ExecuteTime": {
     "end_time": "2025-03-07T18:48:35.017165Z",
     "start_time": "2025-03-07T18:48:35.011055Z"
    }
   },
   "cell_type": "code",
   "source": [
    "def spell_check_levenshtein(word: str, dictionary: Set[str], max_distance: int = 3) -> str:\n",
    "    \n",
    "    word = word.lower().strip()\n",
    "    if not word:\n",
    "        return \"❌ Please enter a non-empty word!\"\n",
    "    \n",
    "    if word in dictionary:\n",
    "        return f\"✅ The word '{word}' is spelled correctly.\"\n",
    "    \n",
    "    suggestions = get_suggestions_levenshtein(word, dictionary, max_suggestions=5, max_distance=max_distance)\n",
    "    \n",
    "    if suggestions:\n",
    "        return f\"❌ The word '{word}' was not found. Possible corrections:\\n\" + \\\n",
    "               \"\\n\".join(f\"  {i+1}. {s}\" for i, s in enumerate(suggestions))\n",
    "    else:\n",
    "        return f\"❌ The word '{word}' was not found. No similar words found .\""
   ],
   "id": "a2fa1c323cfce5c9",
   "outputs": [],
   "execution_count": 54
  },
  {
   "metadata": {},
   "cell_type": "markdown",
   "source": [
    "### 5. **Main Function:**\n",
    "\n",
    "The `main` function loads a dictionary of English words from a file, prompts the user to input a word, and then checks the spelling of that word using the `spell_check_levenshtein` function. If an error occurs, it prints the error message.\n",
    "\n",
    "The function calls `spell_check_levenshtein` to check the spelling of the entered word against the loaded dictionary.\n",
    "If any error occurs during the execution (e.g., file not found, wrong file format, etc.), the function catches the exception and prints an error message."
   ],
   "id": "2a0aa7ef39f5da59"
  },
  {
   "metadata": {
    "ExecuteTime": {
     "end_time": "2025-03-07T18:48:35.025949Z",
     "start_time": "2025-03-07T18:48:35.019163Z"
    }
   },
   "cell_type": "code",
   "source": [
    "def main():\n",
    "    try:\n",
    "        dictionary = load_dictionary(\"english_words.txt\")\n",
    "        print(f\"✅ Loaded {len(dictionary)} words.\", flush=True)\n",
    "        word = input(\"Enter a word: \").strip()\n",
    "        print(spell_check_levenshtein(word, dictionary), flush=True)\n",
    "    except Exception as e:\n",
    "        print(f\"🚨 Error: {e}\", flush=True)"
   ],
   "id": "bd4560151c26c171",
   "outputs": [],
   "execution_count": 55
  },
  {
   "metadata": {},
   "cell_type": "markdown",
   "source": [
    "`if __name__ == \"__main__\":`  \n",
    "  This condition checks if the script is being executed as the main program."
   ],
   "id": "e058e9cf13291c8b"
  },
  {
   "metadata": {
    "ExecuteTime": {
     "end_time": "2025-03-07T18:48:39.039101Z",
     "start_time": "2025-03-07T18:48:35.027946Z"
    }
   },
   "cell_type": "code",
   "source": [
    "if __name__ == \"__main__\":\n",
    "    main()"
   ],
   "id": "1963e4db545f2767",
   "outputs": [
    {
     "name": "stdout",
     "output_type": "stream",
     "text": [
      "✅ Loaded 604 words.\n",
      "❌ The word 'exit' was not found. Possible corrections:\n",
      "  1. eat\n",
      "  2. exam\n",
      "  3. hit\n",
      "  4. it\n",
      "  5. next\n"
     ]
    }
   ],
   "execution_count": 56
  },
  {
   "metadata": {},
   "cell_type": "markdown",
   "source": [
    "# Conclusion\n",
    "\n",
    "##### This program provides an efficient and user-friendly way to check word spellings, offering suggestions for corrections when needed."
   ],
   "id": "f02a7904ae65762f"
  }
 ],
 "metadata": {
  "kernelspec": {
   "display_name": "Python 3",
   "language": "python",
   "name": "python3"
  },
  "language_info": {
   "codemirror_mode": {
    "name": "ipython",
    "version": 2
   },
   "file_extension": ".py",
   "mimetype": "text/x-python",
   "name": "python",
   "nbconvert_exporter": "python",
   "pygments_lexer": "ipython2",
   "version": "2.7.6"
  }
 },
 "nbformat": 4,
 "nbformat_minor": 5
}
